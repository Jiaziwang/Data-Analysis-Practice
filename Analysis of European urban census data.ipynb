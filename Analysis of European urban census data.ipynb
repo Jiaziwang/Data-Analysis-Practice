{
 "cells": [
  {
   "cell_type": "code",
   "execution_count": 6,
   "id": "ecd9c06d",
   "metadata": {},
   "outputs": [],
   "source": [
    "import numpy as np\n",
    "import pandas as pd\n",
    "import matplotlib.pyplot as plt\n",
    "%matplotlib inline\n",
    "plt.rcParams['axes.unicode_minus']=False\n",
    "plt.rcParams['font.sans-serif']=['Simhei']"
   ]
  },
  {
   "cell_type": "code",
   "execution_count": 7,
   "id": "547bef78",
   "metadata": {},
   "outputs": [
    {
     "data": {
      "text/html": [
       "<div>\n",
       "<style scoped>\n",
       "    .dataframe tbody tr th:only-of-type {\n",
       "        vertical-align: middle;\n",
       "    }\n",
       "\n",
       "    .dataframe tbody tr th {\n",
       "        vertical-align: top;\n",
       "    }\n",
       "\n",
       "    .dataframe thead th {\n",
       "        text-align: right;\n",
       "    }\n",
       "</style>\n",
       "<table border=\"1\" class=\"dataframe\">\n",
       "  <thead>\n",
       "    <tr style=\"text-align: right;\">\n",
       "      <th></th>\n",
       "      <th>Rank</th>\n",
       "      <th>City</th>\n",
       "      <th>State</th>\n",
       "      <th>Population</th>\n",
       "      <th>Date of census/estimate</th>\n",
       "    </tr>\n",
       "  </thead>\n",
       "  <tbody>\n",
       "    <tr>\n",
       "      <th>0</th>\n",
       "      <td>1</td>\n",
       "      <td>London[2]</td>\n",
       "      <td>United Kingdom</td>\n",
       "      <td>8,615,246</td>\n",
       "      <td>1-Jun-14</td>\n",
       "    </tr>\n",
       "    <tr>\n",
       "      <th>1</th>\n",
       "      <td>2</td>\n",
       "      <td>Berlin</td>\n",
       "      <td>Germany</td>\n",
       "      <td>3,437,916</td>\n",
       "      <td>31-May-14</td>\n",
       "    </tr>\n",
       "    <tr>\n",
       "      <th>2</th>\n",
       "      <td>3</td>\n",
       "      <td>Madrid</td>\n",
       "      <td>Spain</td>\n",
       "      <td>3,165,235</td>\n",
       "      <td>1-Jan-14</td>\n",
       "    </tr>\n",
       "    <tr>\n",
       "      <th>3</th>\n",
       "      <td>4</td>\n",
       "      <td>Rome</td>\n",
       "      <td>Italy</td>\n",
       "      <td>2,872,086</td>\n",
       "      <td>30-Sep-14</td>\n",
       "    </tr>\n",
       "    <tr>\n",
       "      <th>4</th>\n",
       "      <td>5</td>\n",
       "      <td>Paris</td>\n",
       "      <td>France</td>\n",
       "      <td>2,273,305</td>\n",
       "      <td>1-Jan-13</td>\n",
       "    </tr>\n",
       "  </tbody>\n",
       "</table>\n",
       "</div>"
      ],
      "text/plain": [
       "   Rank       City            State Population Date of census/estimate\n",
       "0     1  London[2]   United Kingdom  8,615,246                1-Jun-14\n",
       "1     2     Berlin          Germany  3,437,916               31-May-14\n",
       "2     3     Madrid            Spain  3,165,235                1-Jan-14\n",
       "3     4       Rome            Italy  2,872,086               30-Sep-14\n",
       "4     5      Paris           France  2,273,305                1-Jan-13"
      ]
     },
     "execution_count": 7,
     "metadata": {},
     "output_type": "execute_result"
    }
   ],
   "source": [
    "raw_data=pd.read_csv(\"european_cities.csv\")\n",
    "raw_data.head()"
   ]
  },
  {
   "cell_type": "code",
   "execution_count": 9,
   "id": "d0316e16",
   "metadata": {},
   "outputs": [],
   "source": [
    "df=raw_data.copy()"
   ]
  },
  {
   "cell_type": "code",
   "execution_count": 11,
   "id": "5bf2d6fe",
   "metadata": {},
   "outputs": [
    {
     "name": "stdout",
     "output_type": "stream",
     "text": [
      "<class 'pandas.core.frame.DataFrame'>\n",
      "RangeIndex: 105 entries, 0 to 104\n",
      "Data columns (total 5 columns):\n",
      " #   Column                   Non-Null Count  Dtype \n",
      "---  ------                   --------------  ----- \n",
      " 0   Rank                     105 non-null    int64 \n",
      " 1   City                     105 non-null    object\n",
      " 2   State                    105 non-null    object\n",
      " 3   Population               105 non-null    object\n",
      " 4   Date of census/estimate  105 non-null    object\n",
      "dtypes: int64(1), object(4)\n",
      "memory usage: 4.2+ KB\n"
     ]
    }
   ],
   "source": [
    "df.info()"
   ]
  },
  {
   "cell_type": "code",
   "execution_count": 12,
   "id": "cee03920",
   "metadata": {},
   "outputs": [
    {
     "data": {
      "text/plain": [
       "(105, 5)"
      ]
     },
     "execution_count": 12,
     "metadata": {},
     "output_type": "execute_result"
    }
   ],
   "source": [
    "df.shape"
   ]
  },
  {
   "cell_type": "code",
   "execution_count": 13,
   "id": "89f1c883",
   "metadata": {},
   "outputs": [
    {
     "data": {
      "text/html": [
       "<div>\n",
       "<style scoped>\n",
       "    .dataframe tbody tr th:only-of-type {\n",
       "        vertical-align: middle;\n",
       "    }\n",
       "\n",
       "    .dataframe tbody tr th {\n",
       "        vertical-align: top;\n",
       "    }\n",
       "\n",
       "    .dataframe thead th {\n",
       "        text-align: right;\n",
       "    }\n",
       "</style>\n",
       "<table border=\"1\" class=\"dataframe\">\n",
       "  <thead>\n",
       "    <tr style=\"text-align: right;\">\n",
       "      <th></th>\n",
       "      <th>Rank</th>\n",
       "      <th>City</th>\n",
       "      <th>State</th>\n",
       "      <th>Population</th>\n",
       "      <th>Date of census/estimate</th>\n",
       "    </tr>\n",
       "  </thead>\n",
       "  <tbody>\n",
       "    <tr>\n",
       "      <th>0</th>\n",
       "      <td>False</td>\n",
       "      <td>False</td>\n",
       "      <td>False</td>\n",
       "      <td>False</td>\n",
       "      <td>False</td>\n",
       "    </tr>\n",
       "    <tr>\n",
       "      <th>1</th>\n",
       "      <td>False</td>\n",
       "      <td>False</td>\n",
       "      <td>False</td>\n",
       "      <td>False</td>\n",
       "      <td>False</td>\n",
       "    </tr>\n",
       "    <tr>\n",
       "      <th>2</th>\n",
       "      <td>False</td>\n",
       "      <td>False</td>\n",
       "      <td>False</td>\n",
       "      <td>False</td>\n",
       "      <td>False</td>\n",
       "    </tr>\n",
       "    <tr>\n",
       "      <th>3</th>\n",
       "      <td>False</td>\n",
       "      <td>False</td>\n",
       "      <td>False</td>\n",
       "      <td>False</td>\n",
       "      <td>False</td>\n",
       "    </tr>\n",
       "    <tr>\n",
       "      <th>4</th>\n",
       "      <td>False</td>\n",
       "      <td>False</td>\n",
       "      <td>False</td>\n",
       "      <td>False</td>\n",
       "      <td>False</td>\n",
       "    </tr>\n",
       "    <tr>\n",
       "      <th>...</th>\n",
       "      <td>...</td>\n",
       "      <td>...</td>\n",
       "      <td>...</td>\n",
       "      <td>...</td>\n",
       "      <td>...</td>\n",
       "    </tr>\n",
       "    <tr>\n",
       "      <th>100</th>\n",
       "      <td>False</td>\n",
       "      <td>False</td>\n",
       "      <td>False</td>\n",
       "      <td>False</td>\n",
       "      <td>False</td>\n",
       "    </tr>\n",
       "    <tr>\n",
       "      <th>101</th>\n",
       "      <td>False</td>\n",
       "      <td>False</td>\n",
       "      <td>False</td>\n",
       "      <td>False</td>\n",
       "      <td>False</td>\n",
       "    </tr>\n",
       "    <tr>\n",
       "      <th>102</th>\n",
       "      <td>False</td>\n",
       "      <td>False</td>\n",
       "      <td>False</td>\n",
       "      <td>False</td>\n",
       "      <td>False</td>\n",
       "    </tr>\n",
       "    <tr>\n",
       "      <th>103</th>\n",
       "      <td>False</td>\n",
       "      <td>False</td>\n",
       "      <td>False</td>\n",
       "      <td>False</td>\n",
       "      <td>False</td>\n",
       "    </tr>\n",
       "    <tr>\n",
       "      <th>104</th>\n",
       "      <td>False</td>\n",
       "      <td>False</td>\n",
       "      <td>False</td>\n",
       "      <td>False</td>\n",
       "      <td>False</td>\n",
       "    </tr>\n",
       "  </tbody>\n",
       "</table>\n",
       "<p>105 rows × 5 columns</p>\n",
       "</div>"
      ],
      "text/plain": [
       "      Rank   City  State  Population  Date of census/estimate\n",
       "0    False  False  False       False                    False\n",
       "1    False  False  False       False                    False\n",
       "2    False  False  False       False                    False\n",
       "3    False  False  False       False                    False\n",
       "4    False  False  False       False                    False\n",
       "..     ...    ...    ...         ...                      ...\n",
       "100  False  False  False       False                    False\n",
       "101  False  False  False       False                    False\n",
       "102  False  False  False       False                    False\n",
       "103  False  False  False       False                    False\n",
       "104  False  False  False       False                    False\n",
       "\n",
       "[105 rows x 5 columns]"
      ]
     },
     "execution_count": 13,
     "metadata": {},
     "output_type": "execute_result"
    }
   ],
   "source": [
    "df.isnull()"
   ]
  },
  {
   "cell_type": "code",
   "execution_count": 14,
   "id": "1a0d86e9",
   "metadata": {},
   "outputs": [
    {
     "data": {
      "text/plain": [
       "Rank                       0\n",
       "City                       0\n",
       "State                      0\n",
       "Population                 0\n",
       "Date of census/estimate    0\n",
       "dtype: int64"
      ]
     },
     "execution_count": 14,
     "metadata": {},
     "output_type": "execute_result"
    }
   ],
   "source": [
    "df.isnull().sum()#列"
   ]
  },
  {
   "cell_type": "code",
   "execution_count": 16,
   "id": "cf779b52",
   "metadata": {},
   "outputs": [
    {
     "data": {
      "text/plain": [
       "0      0\n",
       "1      0\n",
       "2      0\n",
       "3      0\n",
       "4      0\n",
       "      ..\n",
       "100    0\n",
       "101    0\n",
       "102    0\n",
       "103    0\n",
       "104    0\n",
       "Length: 105, dtype: int64"
      ]
     },
     "execution_count": 16,
     "metadata": {},
     "output_type": "execute_result"
    }
   ],
   "source": [
    "df.isnull().sum(1)"
   ]
  },
  {
   "cell_type": "code",
   "execution_count": 19,
   "id": "52473699",
   "metadata": {},
   "outputs": [
    {
     "data": {
      "text/plain": [
       "0"
      ]
     },
     "execution_count": 19,
     "metadata": {},
     "output_type": "execute_result"
    }
   ],
   "source": [
    "df.isnull().sum().sum()"
   ]
  },
  {
   "cell_type": "code",
   "execution_count": 20,
   "id": "adc81700",
   "metadata": {},
   "outputs": [
    {
     "data": {
      "text/plain": [
       "0      False\n",
       "1      False\n",
       "2      False\n",
       "3      False\n",
       "4      False\n",
       "       ...  \n",
       "100    False\n",
       "101    False\n",
       "102    False\n",
       "103    False\n",
       "104    False\n",
       "Length: 105, dtype: bool"
      ]
     },
     "execution_count": 20,
     "metadata": {},
     "output_type": "execute_result"
    }
   ],
   "source": [
    "df.duplicated()"
   ]
  },
  {
   "cell_type": "code",
   "execution_count": 22,
   "id": "2980ac41",
   "metadata": {},
   "outputs": [
    {
     "data": {
      "text/plain": [
       "0"
      ]
     },
     "execution_count": 22,
     "metadata": {},
     "output_type": "execute_result"
    }
   ],
   "source": [
    "df.duplicated().sum()"
   ]
  },
  {
   "cell_type": "code",
   "execution_count": 23,
   "id": "89c72086",
   "metadata": {},
   "outputs": [
    {
     "data": {
      "text/html": [
       "<div>\n",
       "<style scoped>\n",
       "    .dataframe tbody tr th:only-of-type {\n",
       "        vertical-align: middle;\n",
       "    }\n",
       "\n",
       "    .dataframe tbody tr th {\n",
       "        vertical-align: top;\n",
       "    }\n",
       "\n",
       "    .dataframe thead th {\n",
       "        text-align: right;\n",
       "    }\n",
       "</style>\n",
       "<table border=\"1\" class=\"dataframe\">\n",
       "  <thead>\n",
       "    <tr style=\"text-align: right;\">\n",
       "      <th></th>\n",
       "      <th>Rank</th>\n",
       "      <th>City</th>\n",
       "      <th>State</th>\n",
       "      <th>Population</th>\n",
       "      <th>Date of census/estimate</th>\n",
       "    </tr>\n",
       "  </thead>\n",
       "  <tbody>\n",
       "    <tr>\n",
       "      <th>0</th>\n",
       "      <td>1</td>\n",
       "      <td>London[2]</td>\n",
       "      <td>United Kingdom</td>\n",
       "      <td>8,615,246</td>\n",
       "      <td>1-Jun-14</td>\n",
       "    </tr>\n",
       "    <tr>\n",
       "      <th>1</th>\n",
       "      <td>2</td>\n",
       "      <td>Berlin</td>\n",
       "      <td>Germany</td>\n",
       "      <td>3,437,916</td>\n",
       "      <td>31-May-14</td>\n",
       "    </tr>\n",
       "    <tr>\n",
       "      <th>2</th>\n",
       "      <td>3</td>\n",
       "      <td>Madrid</td>\n",
       "      <td>Spain</td>\n",
       "      <td>3,165,235</td>\n",
       "      <td>1-Jan-14</td>\n",
       "    </tr>\n",
       "    <tr>\n",
       "      <th>3</th>\n",
       "      <td>4</td>\n",
       "      <td>Rome</td>\n",
       "      <td>Italy</td>\n",
       "      <td>2,872,086</td>\n",
       "      <td>30-Sep-14</td>\n",
       "    </tr>\n",
       "    <tr>\n",
       "      <th>4</th>\n",
       "      <td>5</td>\n",
       "      <td>Paris</td>\n",
       "      <td>France</td>\n",
       "      <td>2,273,305</td>\n",
       "      <td>1-Jan-13</td>\n",
       "    </tr>\n",
       "    <tr>\n",
       "      <th>...</th>\n",
       "      <td>...</td>\n",
       "      <td>...</td>\n",
       "      <td>...</td>\n",
       "      <td>...</td>\n",
       "      <td>...</td>\n",
       "    </tr>\n",
       "    <tr>\n",
       "      <th>100</th>\n",
       "      <td>101</td>\n",
       "      <td>Bonn</td>\n",
       "      <td>Germany</td>\n",
       "      <td>309,869</td>\n",
       "      <td>31-Dec-12</td>\n",
       "    </tr>\n",
       "    <tr>\n",
       "      <th>101</th>\n",
       "      <td>102</td>\n",
       "      <td>Malmö</td>\n",
       "      <td>Sweden</td>\n",
       "      <td>309,105</td>\n",
       "      <td>31-Mar-13</td>\n",
       "    </tr>\n",
       "    <tr>\n",
       "      <th>102</th>\n",
       "      <td>103</td>\n",
       "      <td>Nottingham</td>\n",
       "      <td>United Kingdom</td>\n",
       "      <td>308,735</td>\n",
       "      <td>30-Jun-12</td>\n",
       "    </tr>\n",
       "    <tr>\n",
       "      <th>103</th>\n",
       "      <td>104</td>\n",
       "      <td>Katowice</td>\n",
       "      <td>Poland</td>\n",
       "      <td>308,269</td>\n",
       "      <td>30-Jun-12</td>\n",
       "    </tr>\n",
       "    <tr>\n",
       "      <th>104</th>\n",
       "      <td>105</td>\n",
       "      <td>Kaunas</td>\n",
       "      <td>Lithuania</td>\n",
       "      <td>306,888</td>\n",
       "      <td>1-Jan-13</td>\n",
       "    </tr>\n",
       "  </tbody>\n",
       "</table>\n",
       "<p>105 rows × 5 columns</p>\n",
       "</div>"
      ],
      "text/plain": [
       "     Rank        City            State Population Date of census/estimate\n",
       "0       1   London[2]   United Kingdom  8,615,246                1-Jun-14\n",
       "1       2      Berlin          Germany  3,437,916               31-May-14\n",
       "2       3      Madrid            Spain  3,165,235                1-Jan-14\n",
       "3       4        Rome            Italy  2,872,086               30-Sep-14\n",
       "4       5       Paris           France  2,273,305                1-Jan-13\n",
       "..    ...         ...              ...        ...                     ...\n",
       "100   101        Bonn          Germany    309,869               31-Dec-12\n",
       "101   102       Malmö           Sweden    309,105               31-Mar-13\n",
       "102   103  Nottingham   United Kingdom    308,735               30-Jun-12\n",
       "103   104    Katowice           Poland    308,269               30-Jun-12\n",
       "104   105      Kaunas        Lithuania    306,888                1-Jan-13\n",
       "\n",
       "[105 rows x 5 columns]"
      ]
     },
     "execution_count": 23,
     "metadata": {},
     "output_type": "execute_result"
    }
   ],
   "source": [
    "df.drop_duplicates()"
   ]
  },
  {
   "cell_type": "code",
   "execution_count": 24,
   "id": "59cf5bab",
   "metadata": {},
   "outputs": [
    {
     "data": {
      "text/plain": [
       "(105, 5)"
      ]
     },
     "execution_count": 24,
     "metadata": {},
     "output_type": "execute_result"
    }
   ],
   "source": [
    "df.drop_duplicates().shape"
   ]
  },
  {
   "cell_type": "code",
   "execution_count": 25,
   "id": "50e3e24a",
   "metadata": {},
   "outputs": [
    {
     "data": {
      "text/html": [
       "<div>\n",
       "<style scoped>\n",
       "    .dataframe tbody tr th:only-of-type {\n",
       "        vertical-align: middle;\n",
       "    }\n",
       "\n",
       "    .dataframe tbody tr th {\n",
       "        vertical-align: top;\n",
       "    }\n",
       "\n",
       "    .dataframe thead th {\n",
       "        text-align: right;\n",
       "    }\n",
       "</style>\n",
       "<table border=\"1\" class=\"dataframe\">\n",
       "  <thead>\n",
       "    <tr style=\"text-align: right;\">\n",
       "      <th></th>\n",
       "      <th>Rank</th>\n",
       "      <th>City</th>\n",
       "      <th>State</th>\n",
       "      <th>Population</th>\n",
       "      <th>Date of census/estimate</th>\n",
       "    </tr>\n",
       "  </thead>\n",
       "  <tbody>\n",
       "    <tr>\n",
       "      <th>0</th>\n",
       "      <td>1</td>\n",
       "      <td>London[2]</td>\n",
       "      <td>United Kingdom</td>\n",
       "      <td>8,615,246</td>\n",
       "      <td>1-Jun-14</td>\n",
       "    </tr>\n",
       "    <tr>\n",
       "      <th>1</th>\n",
       "      <td>2</td>\n",
       "      <td>Berlin</td>\n",
       "      <td>Germany</td>\n",
       "      <td>3,437,916</td>\n",
       "      <td>31-May-14</td>\n",
       "    </tr>\n",
       "    <tr>\n",
       "      <th>2</th>\n",
       "      <td>3</td>\n",
       "      <td>Madrid</td>\n",
       "      <td>Spain</td>\n",
       "      <td>3,165,235</td>\n",
       "      <td>1-Jan-14</td>\n",
       "    </tr>\n",
       "    <tr>\n",
       "      <th>3</th>\n",
       "      <td>4</td>\n",
       "      <td>Rome</td>\n",
       "      <td>Italy</td>\n",
       "      <td>2,872,086</td>\n",
       "      <td>30-Sep-14</td>\n",
       "    </tr>\n",
       "    <tr>\n",
       "      <th>4</th>\n",
       "      <td>5</td>\n",
       "      <td>Paris</td>\n",
       "      <td>France</td>\n",
       "      <td>2,273,305</td>\n",
       "      <td>1-Jan-13</td>\n",
       "    </tr>\n",
       "  </tbody>\n",
       "</table>\n",
       "</div>"
      ],
      "text/plain": [
       "   Rank       City            State Population Date of census/estimate\n",
       "0     1  London[2]   United Kingdom  8,615,246                1-Jun-14\n",
       "1     2     Berlin          Germany  3,437,916               31-May-14\n",
       "2     3     Madrid            Spain  3,165,235                1-Jan-14\n",
       "3     4       Rome            Italy  2,872,086               30-Sep-14\n",
       "4     5      Paris           France  2,273,305                1-Jan-13"
      ]
     },
     "execution_count": 25,
     "metadata": {},
     "output_type": "execute_result"
    }
   ],
   "source": [
    "df.head()"
   ]
  },
  {
   "cell_type": "code",
   "execution_count": 27,
   "id": "bc686d5d",
   "metadata": {},
   "outputs": [
    {
     "data": {
      "text/plain": [
       "array(['London[2]', 'Berlin', 'Madrid', 'Rome', 'Paris', 'Bucharest',\n",
       "       'Vienna', 'Hamburg[10]', 'Budapest', 'Warsaw', 'Barcelona',\n",
       "       'Munich', 'Milan', 'Sofia', 'Prague', 'Brussels[17]', 'Birmingham',\n",
       "       'Cologne', 'Naples', 'Stockholm', 'Turin', 'Marseille',\n",
       "       'Amsterdam', 'Zagreb', 'Valencia', 'Kraków', 'Leeds', 'Łódź',\n",
       "       'Frankfurt', 'Riga', 'Seville', 'Palermo', 'Zaragoza', 'Athens',\n",
       "       'Wrocław', 'Rotterdam', 'Helsinki', 'Stuttgart', 'Glasgow',\n",
       "       'Genoa', 'Düsseldorf', 'Dortmund', 'Essen', 'Málaga', 'Copenhagen',\n",
       "       'Sheffield', 'Lisbon', 'Poznań', 'Bremen', 'Vilnius', 'Leipzig',\n",
       "       'Dresden', 'Gothenburg', 'Dublin', 'Bradford', 'Hanover',\n",
       "       'The Hague', 'Manchester', 'Antwerp', 'Edinburgh', 'Nuremberg',\n",
       "       'Duisburg', 'Lyon', 'Liverpool', 'Gdańsk', 'Toulouse', 'Murcia',\n",
       "       'Tallinn', 'Bristol', 'Bratislava', 'Szczecin',\n",
       "       'Palma de Mallorca', 'Bologna', 'Las Palmas', 'Florence', 'Brno',\n",
       "       'Bydgoszcz', 'Bochum', 'Bilbao', 'Cardiff', 'Lublin', 'Nice',\n",
       "       'Wuppertal', 'Plovdiv', 'Varna', 'Alicante', 'Leicester',\n",
       "       'Utrecht', 'Córdoba', 'Bielefeld', 'Wakefield', 'Aarhus',\n",
       "       'Cluj-Napoca', 'Coventry', 'Bari', 'Thessaloniki', 'Wirral',\n",
       "       'Timișoara', 'Catania', 'Valladolid', 'Bonn', 'Malmö',\n",
       "       'Nottingham', 'Katowice', 'Kaunas'], dtype=object)"
      ]
     },
     "execution_count": 27,
     "metadata": {},
     "output_type": "execute_result"
    }
   ],
   "source": [
    "df[\"City\"].values"
   ]
  },
  {
   "cell_type": "code",
   "execution_count": 30,
   "id": "939b38a6",
   "metadata": {},
   "outputs": [
    {
     "data": {
      "text/plain": [
       "0      False\n",
       "1       True\n",
       "2       True\n",
       "3       True\n",
       "4       True\n",
       "       ...  \n",
       "100     True\n",
       "101     True\n",
       "102     True\n",
       "103     True\n",
       "104     True\n",
       "Name: City, Length: 105, dtype: bool"
      ]
     },
     "execution_count": 30,
     "metadata": {},
     "output_type": "execute_result"
    }
   ],
   "source": [
    "df.City.str.isalpha()"
   ]
  },
  {
   "cell_type": "code",
   "execution_count": 31,
   "id": "21c8626c",
   "metadata": {},
   "outputs": [
    {
     "data": {
      "text/plain": [
       "0             London[2]\n",
       "7           Hamburg[10]\n",
       "15         Brussels[17]\n",
       "56            The Hague\n",
       "71    Palma de Mallorca\n",
       "73           Las Palmas\n",
       "92          Cluj-Napoca\n",
       "Name: City, dtype: object"
      ]
     },
     "execution_count": 31,
     "metadata": {},
     "output_type": "execute_result"
    }
   ],
   "source": [
    "df.City[~df.City.str.isalpha()]"
   ]
  },
  {
   "cell_type": "code",
   "execution_count": 32,
   "id": "a3da2572",
   "metadata": {},
   "outputs": [],
   "source": [
    "df.iloc[[0,7,15],1]=[\"London\",\"Hamburg\",\"Brussels\"]"
   ]
  },
  {
   "cell_type": "code",
   "execution_count": 33,
   "id": "1d862226",
   "metadata": {},
   "outputs": [
    {
     "data": {
      "text/plain": [
       "0       London\n",
       "7      Hamburg\n",
       "15    Brussels\n",
       "Name: City, dtype: object"
      ]
     },
     "execution_count": 33,
     "metadata": {},
     "output_type": "execute_result"
    }
   ],
   "source": [
    "df.iloc[[0,7,15],1]"
   ]
  },
  {
   "cell_type": "code",
   "execution_count": 36,
   "id": "67ec3249",
   "metadata": {},
   "outputs": [
    {
     "data": {
      "text/plain": [
       "Index(['Rank', 'City', 'State', 'Population', 'Date of census/estimate'], dtype='object')"
      ]
     },
     "execution_count": 36,
     "metadata": {},
     "output_type": "execute_result"
    }
   ],
   "source": [
    "df.columns"
   ]
  },
  {
   "cell_type": "code",
   "execution_count": 37,
   "id": "3318f6dc",
   "metadata": {},
   "outputs": [
    {
     "data": {
      "text/plain": [
       "array([' United Kingdom', ' Germany', ' Spain', ' Italy', ' France',\n",
       "       ' Romania', ' Austria', ' Germany', ' Hungary', ' Poland',\n",
       "       ' Spain', ' Germany', ' Italy', ' Bulgaria', ' Czech Republic',\n",
       "       ' Belgium', ' United Kingdom', ' Germany', ' Italy', ' Sweden',\n",
       "       ' Italy', ' France', ' Netherlands', ' Croatia', ' Spain',\n",
       "       ' Poland', ' United Kingdom', ' Poland', ' Germany', ' Latvia',\n",
       "       ' Spain', ' Italy', ' Spain', ' Greece', ' Poland', ' Netherlands',\n",
       "       ' Finland', ' Germany', ' United Kingdom', ' Italy', ' Germany',\n",
       "       ' Germany', ' Germany', ' Spain', ' Denmark', ' United Kingdom',\n",
       "       ' Portugal', ' Poland', ' Germany', ' Lithuania', ' Germany',\n",
       "       ' Germany', ' Sweden', ' Ireland', ' United Kingdom', ' Germany',\n",
       "       ' Netherlands', ' United Kingdom', ' Belgium', ' United Kingdom',\n",
       "       ' Germany', ' Germany', ' France', ' United Kingdom', ' Poland',\n",
       "       ' France', ' Spain', ' Estonia', ' United Kingdom',\n",
       "       'Slovakia Slovak Republic', ' Poland', ' Spain', ' Italy',\n",
       "       ' Spain', ' Italy', ' Czech Republic', ' Poland', ' Germany',\n",
       "       ' Spain', ' United Kingdom', ' Poland', ' France', ' Germany',\n",
       "       ' Bulgaria', ' Bulgaria', ' Spain', ' United Kingdom',\n",
       "       ' Netherlands', ' Spain', ' Germany', ' United Kingdom',\n",
       "       ' Denmark', ' Romania', ' United Kingdom', ' Italy', ' Greece',\n",
       "       ' United Kingdom', ' Romania', ' Italy', ' Spain', ' Germany',\n",
       "       ' Sweden', ' United Kingdom', ' Poland', ' Lithuania'],\n",
       "      dtype=object)"
      ]
     },
     "execution_count": 37,
     "metadata": {},
     "output_type": "execute_result"
    }
   ],
   "source": [
    "df[\"State\"].values"
   ]
  },
  {
   "cell_type": "code",
   "execution_count": 39,
   "id": "e86031c4",
   "metadata": {},
   "outputs": [
    {
     "data": {
      "text/plain": [
       "array(['8,615,246', '3,437,916', '3,165,235', '2,872,086', '2,273,305',\n",
       "       '1,883,425', '1,794,770', '1,746,342', '1,744,665', '1,729,119',\n",
       "       '1,602,386', '1,407,836', '1,332,516', '1,291,895', '1,246,780',\n",
       "       '1,175,831', '1,092,330', '1,034,175', '989,845', '909,976',\n",
       "       '898,095', '852,516', '813,562', '790,017', '786,424', '760,700',\n",
       "       '757,655', '709,757', '701,350', '701,185', '696,676', '677,015',\n",
       "       '666,058', '664,046', '632,432', '616,528', '605,523', '604,297',\n",
       "       '596,550', '594,774', '593,682', '575,944', '569,884', '566,913',\n",
       "       '559,440', '557,382', '547,631', '547,161', '546,451', '537,152',\n",
       "       '531,562', '530,754', '528,014', '527,612', '524,619', '514,137',\n",
       "       '510,909', '510,772', '510,610', '495,360', '495,121', '486,816',\n",
       "       '484,344', '469,690', '460,354', '441,802', '441,354', '434,810',\n",
       "       '432,451', '417,389', '409,211', '407,648', '384,202', '382,296',\n",
       "       '377,207', '378,327', '362,286', '362,213', '351,629', '348,493',\n",
       "       '348,120', '343,304', '342,885', '341,041', '335,819', '334,678',\n",
       "       '331,606', '330,772', '328,841', '328,314', '327,627', '326,676',\n",
       "       '324,576', '323,132', '322,751', '322,240', '320,229', '319,279',\n",
       "       '315,576', '311,501', '309,869', '309,105', '308,735', '308,269',\n",
       "       '306,888'], dtype=object)"
      ]
     },
     "execution_count": 39,
     "metadata": {},
     "output_type": "execute_result"
    }
   ],
   "source": [
    "df[\"Population\"].values"
   ]
  },
  {
   "cell_type": "code",
   "execution_count": 41,
   "id": "8d57a8e0",
   "metadata": {},
   "outputs": [
    {
     "data": {
      "text/plain": [
       "0      8,615,246\n",
       "1      3,437,916\n",
       "2      3,165,235\n",
       "3      2,872,086\n",
       "4      2,273,305\n",
       "         ...    \n",
       "100      309,869\n",
       "101      309,105\n",
       "102      308,735\n",
       "103      308,269\n",
       "104      306,888\n",
       "Name: Population, Length: 105, dtype: object"
      ]
     },
     "execution_count": 41,
     "metadata": {},
     "output_type": "execute_result"
    }
   ],
   "source": [
    "df.Population"
   ]
  },
  {
   "cell_type": "code",
   "execution_count": 53,
   "id": "fee5ae7c",
   "metadata": {},
   "outputs": [],
   "source": [
    "df.Population=df.Population.replace(\",\",\"\")"
   ]
  },
  {
   "cell_type": "code",
   "execution_count": 54,
   "id": "cbeebb24",
   "metadata": {},
   "outputs": [],
   "source": [
    "df.Population=df.Population.astype(int)"
   ]
  },
  {
   "cell_type": "code",
   "execution_count": 55,
   "id": "d96902dc",
   "metadata": {},
   "outputs": [
    {
     "data": {
      "text/plain": [
       "0      8615246\n",
       "1      3437916\n",
       "2      3165235\n",
       "3      2872086\n",
       "4      2273305\n",
       "        ...   \n",
       "100     309869\n",
       "101     309105\n",
       "102     308735\n",
       "103     308269\n",
       "104     306888\n",
       "Name: Population, Length: 105, dtype: int64"
      ]
     },
     "execution_count": 55,
     "metadata": {},
     "output_type": "execute_result"
    }
   ],
   "source": [
    "df.Population"
   ]
  },
  {
   "cell_type": "code",
   "execution_count": 56,
   "id": "ef0bf506",
   "metadata": {},
   "outputs": [
    {
     "name": "stdout",
     "output_type": "stream",
     "text": [
      "<class 'pandas.core.frame.DataFrame'>\n",
      "RangeIndex: 105 entries, 0 to 104\n",
      "Data columns (total 5 columns):\n",
      " #   Column                   Non-Null Count  Dtype \n",
      "---  ------                   --------------  ----- \n",
      " 0   Rank                     105 non-null    int64 \n",
      " 1   City                     105 non-null    object\n",
      " 2   State                    105 non-null    object\n",
      " 3   Population               105 non-null    int64 \n",
      " 4   Date of census/estimate  105 non-null    object\n",
      "dtypes: int64(2), object(3)\n",
      "memory usage: 4.2+ KB\n"
     ]
    }
   ],
   "source": [
    "df.info()"
   ]
  },
  {
   "cell_type": "code",
   "execution_count": 59,
   "id": "391a8dd9",
   "metadata": {},
   "outputs": [
    {
     "data": {
      "text/plain": [
       "0       1-Jun-14\n",
       "1      31-May-14\n",
       "2       1-Jan-14\n",
       "3      30-Sep-14\n",
       "4       1-Jan-13\n",
       "         ...    \n",
       "100    31-Dec-12\n",
       "101    31-Mar-13\n",
       "102    30-Jun-12\n",
       "103    30-Jun-12\n",
       "104     1-Jan-13\n",
       "Name: Date of census/estimate, Length: 105, dtype: object"
      ]
     },
     "execution_count": 59,
     "metadata": {},
     "output_type": "execute_result"
    }
   ],
   "source": [
    "df[\"Date of census/estimate\"]"
   ]
  },
  {
   "cell_type": "code",
   "execution_count": 64,
   "id": "7fe57f6a",
   "metadata": {},
   "outputs": [
    {
     "data": {
      "text/html": [
       "<div>\n",
       "<style scoped>\n",
       "    .dataframe tbody tr th:only-of-type {\n",
       "        vertical-align: middle;\n",
       "    }\n",
       "\n",
       "    .dataframe tbody tr th {\n",
       "        vertical-align: top;\n",
       "    }\n",
       "\n",
       "    .dataframe thead th {\n",
       "        text-align: right;\n",
       "    }\n",
       "</style>\n",
       "<table border=\"1\" class=\"dataframe\">\n",
       "  <thead>\n",
       "    <tr style=\"text-align: right;\">\n",
       "      <th></th>\n",
       "      <th>Rank</th>\n",
       "      <th>City</th>\n",
       "      <th>State</th>\n",
       "      <th>Population</th>\n",
       "      <th>Date of census/estimate</th>\n",
       "    </tr>\n",
       "  </thead>\n",
       "  <tbody>\n",
       "    <tr>\n",
       "      <th>0</th>\n",
       "      <td>1</td>\n",
       "      <td>London</td>\n",
       "      <td>United Kingdom</td>\n",
       "      <td>8615246</td>\n",
       "      <td>2014-06-01</td>\n",
       "    </tr>\n",
       "    <tr>\n",
       "      <th>1</th>\n",
       "      <td>2</td>\n",
       "      <td>Berlin</td>\n",
       "      <td>Germany</td>\n",
       "      <td>3437916</td>\n",
       "      <td>2014-05-31</td>\n",
       "    </tr>\n",
       "    <tr>\n",
       "      <th>2</th>\n",
       "      <td>3</td>\n",
       "      <td>Madrid</td>\n",
       "      <td>Spain</td>\n",
       "      <td>3165235</td>\n",
       "      <td>2014-01-01</td>\n",
       "    </tr>\n",
       "    <tr>\n",
       "      <th>3</th>\n",
       "      <td>4</td>\n",
       "      <td>Rome</td>\n",
       "      <td>Italy</td>\n",
       "      <td>2872086</td>\n",
       "      <td>2014-09-30</td>\n",
       "    </tr>\n",
       "    <tr>\n",
       "      <th>4</th>\n",
       "      <td>5</td>\n",
       "      <td>Paris</td>\n",
       "      <td>France</td>\n",
       "      <td>2273305</td>\n",
       "      <td>2013-01-01</td>\n",
       "    </tr>\n",
       "  </tbody>\n",
       "</table>\n",
       "</div>"
      ],
      "text/plain": [
       "   Rank    City            State  Population Date of census/estimate\n",
       "0     1  London   United Kingdom     8615246              2014-06-01\n",
       "1     2  Berlin          Germany     3437916              2014-05-31\n",
       "2     3  Madrid            Spain     3165235              2014-01-01\n",
       "3     4    Rome            Italy     2872086              2014-09-30\n",
       "4     5   Paris           France     2273305              2013-01-01"
      ]
     },
     "execution_count": 64,
     "metadata": {},
     "output_type": "execute_result"
    }
   ],
   "source": [
    "df[\"Date of census/estimate\"]=pd.to_datetime(df[\"Date of census/estimate\"])\n",
    "df.head()"
   ]
  },
  {
   "cell_type": "code",
   "execution_count": 65,
   "id": "0d7def29",
   "metadata": {},
   "outputs": [],
   "source": [
    "df.set_index([\"Rank\"],inplace=True)"
   ]
  },
  {
   "cell_type": "code",
   "execution_count": 66,
   "id": "d3267ea6",
   "metadata": {},
   "outputs": [
    {
     "data": {
      "text/html": [
       "<div>\n",
       "<style scoped>\n",
       "    .dataframe tbody tr th:only-of-type {\n",
       "        vertical-align: middle;\n",
       "    }\n",
       "\n",
       "    .dataframe tbody tr th {\n",
       "        vertical-align: top;\n",
       "    }\n",
       "\n",
       "    .dataframe thead th {\n",
       "        text-align: right;\n",
       "    }\n",
       "</style>\n",
       "<table border=\"1\" class=\"dataframe\">\n",
       "  <thead>\n",
       "    <tr style=\"text-align: right;\">\n",
       "      <th></th>\n",
       "      <th>City</th>\n",
       "      <th>State</th>\n",
       "      <th>Population</th>\n",
       "      <th>Date of census/estimate</th>\n",
       "    </tr>\n",
       "    <tr>\n",
       "      <th>Rank</th>\n",
       "      <th></th>\n",
       "      <th></th>\n",
       "      <th></th>\n",
       "      <th></th>\n",
       "    </tr>\n",
       "  </thead>\n",
       "  <tbody>\n",
       "    <tr>\n",
       "      <th>1</th>\n",
       "      <td>London</td>\n",
       "      <td>United Kingdom</td>\n",
       "      <td>8615246</td>\n",
       "      <td>2014-06-01</td>\n",
       "    </tr>\n",
       "    <tr>\n",
       "      <th>2</th>\n",
       "      <td>Berlin</td>\n",
       "      <td>Germany</td>\n",
       "      <td>3437916</td>\n",
       "      <td>2014-05-31</td>\n",
       "    </tr>\n",
       "    <tr>\n",
       "      <th>3</th>\n",
       "      <td>Madrid</td>\n",
       "      <td>Spain</td>\n",
       "      <td>3165235</td>\n",
       "      <td>2014-01-01</td>\n",
       "    </tr>\n",
       "    <tr>\n",
       "      <th>4</th>\n",
       "      <td>Rome</td>\n",
       "      <td>Italy</td>\n",
       "      <td>2872086</td>\n",
       "      <td>2014-09-30</td>\n",
       "    </tr>\n",
       "    <tr>\n",
       "      <th>5</th>\n",
       "      <td>Paris</td>\n",
       "      <td>France</td>\n",
       "      <td>2273305</td>\n",
       "      <td>2013-01-01</td>\n",
       "    </tr>\n",
       "  </tbody>\n",
       "</table>\n",
       "</div>"
      ],
      "text/plain": [
       "        City            State  Population Date of census/estimate\n",
       "Rank                                                             \n",
       "1     London   United Kingdom     8615246              2014-06-01\n",
       "2     Berlin          Germany     3437916              2014-05-31\n",
       "3     Madrid            Spain     3165235              2014-01-01\n",
       "4       Rome            Italy     2872086              2014-09-30\n",
       "5      Paris           France     2273305              2013-01-01"
      ]
     },
     "execution_count": 66,
     "metadata": {},
     "output_type": "execute_result"
    }
   ],
   "source": [
    "df.head()"
   ]
  },
  {
   "cell_type": "code",
   "execution_count": 67,
   "id": "74557166",
   "metadata": {},
   "outputs": [
    {
     "data": {
      "text/html": [
       "<div>\n",
       "<style scoped>\n",
       "    .dataframe tbody tr th:only-of-type {\n",
       "        vertical-align: middle;\n",
       "    }\n",
       "\n",
       "    .dataframe tbody tr th {\n",
       "        vertical-align: top;\n",
       "    }\n",
       "\n",
       "    .dataframe thead th {\n",
       "        text-align: right;\n",
       "    }\n",
       "</style>\n",
       "<table border=\"1\" class=\"dataframe\">\n",
       "  <thead>\n",
       "    <tr style=\"text-align: right;\">\n",
       "      <th></th>\n",
       "      <th>City</th>\n",
       "      <th>State</th>\n",
       "      <th>Population</th>\n",
       "      <th>Date of census/estimate</th>\n",
       "    </tr>\n",
       "    <tr>\n",
       "      <th>Rank</th>\n",
       "      <th></th>\n",
       "      <th></th>\n",
       "      <th></th>\n",
       "      <th></th>\n",
       "    </tr>\n",
       "  </thead>\n",
       "  <tbody>\n",
       "    <tr>\n",
       "      <th>1</th>\n",
       "      <td>London</td>\n",
       "      <td>United Kingdom</td>\n",
       "      <td>8615246</td>\n",
       "      <td>2014-06-01</td>\n",
       "    </tr>\n",
       "    <tr>\n",
       "      <th>2</th>\n",
       "      <td>Berlin</td>\n",
       "      <td>Germany</td>\n",
       "      <td>3437916</td>\n",
       "      <td>2014-05-31</td>\n",
       "    </tr>\n",
       "    <tr>\n",
       "      <th>3</th>\n",
       "      <td>Madrid</td>\n",
       "      <td>Spain</td>\n",
       "      <td>3165235</td>\n",
       "      <td>2014-01-01</td>\n",
       "    </tr>\n",
       "    <tr>\n",
       "      <th>4</th>\n",
       "      <td>Rome</td>\n",
       "      <td>Italy</td>\n",
       "      <td>2872086</td>\n",
       "      <td>2014-09-30</td>\n",
       "    </tr>\n",
       "    <tr>\n",
       "      <th>5</th>\n",
       "      <td>Paris</td>\n",
       "      <td>France</td>\n",
       "      <td>2273305</td>\n",
       "      <td>2013-01-01</td>\n",
       "    </tr>\n",
       "  </tbody>\n",
       "</table>\n",
       "</div>"
      ],
      "text/plain": [
       "        City            State  Population Date of census/estimate\n",
       "Rank                                                             \n",
       "1     London   United Kingdom     8615246              2014-06-01\n",
       "2     Berlin          Germany     3437916              2014-05-31\n",
       "3     Madrid            Spain     3165235              2014-01-01\n",
       "4       Rome            Italy     2872086              2014-09-30\n",
       "5      Paris           France     2273305              2013-01-01"
      ]
     },
     "execution_count": 67,
     "metadata": {},
     "output_type": "execute_result"
    }
   ],
   "source": [
    "df.head()"
   ]
  },
  {
   "cell_type": "code",
   "execution_count": 70,
   "id": "abac8fbd",
   "metadata": {},
   "outputs": [
    {
     "data": {
      "text/plain": [
       "array([' United Kingdom', ' Germany', ' Spain', ' Italy', ' France',\n",
       "       ' Romania', ' Austria', ' Germany', ' Hungary', ' Poland',\n",
       "       ' Spain', ' Germany', ' Italy', ' Bulgaria', ' Czech Republic',\n",
       "       ' Belgium', ' United Kingdom', ' Germany', ' Italy', ' Sweden',\n",
       "       ' Italy', ' France', ' Netherlands', ' Croatia', ' Spain',\n",
       "       ' Poland', ' United Kingdom', ' Poland', ' Germany', ' Latvia',\n",
       "       ' Spain', ' Italy', ' Spain', ' Greece', ' Poland', ' Netherlands',\n",
       "       ' Finland', ' Germany', ' United Kingdom', ' Italy', ' Germany',\n",
       "       ' Germany', ' Germany', ' Spain', ' Denmark', ' United Kingdom',\n",
       "       ' Portugal', ' Poland', ' Germany', ' Lithuania', ' Germany',\n",
       "       ' Germany', ' Sweden', ' Ireland', ' United Kingdom', ' Germany',\n",
       "       ' Netherlands', ' United Kingdom', ' Belgium', ' United Kingdom',\n",
       "       ' Germany', ' Germany', ' France', ' United Kingdom', ' Poland',\n",
       "       ' France', ' Spain', ' Estonia', ' United Kingdom',\n",
       "       'Slovakia Slovak Republic', ' Poland', ' Spain', ' Italy',\n",
       "       ' Spain', ' Italy', ' Czech Republic', ' Poland', ' Germany',\n",
       "       ' Spain', ' United Kingdom', ' Poland', ' France', ' Germany',\n",
       "       ' Bulgaria', ' Bulgaria', ' Spain', ' United Kingdom',\n",
       "       ' Netherlands', ' Spain', ' Germany', ' United Kingdom',\n",
       "       ' Denmark', ' Romania', ' United Kingdom', ' Italy', ' Greece',\n",
       "       ' United Kingdom', ' Romania', ' Italy', ' Spain', ' Germany',\n",
       "       ' Sweden', ' United Kingdom', ' Poland', ' Lithuania'],\n",
       "      dtype=object)"
      ]
     },
     "execution_count": 70,
     "metadata": {},
     "output_type": "execute_result"
    }
   ],
   "source": [
    "df.State.values"
   ]
  },
  {
   "cell_type": "code",
   "execution_count": 75,
   "id": "2b23b076",
   "metadata": {},
   "outputs": [
    {
     "data": {
      "text/plain": [
       "24"
      ]
     },
     "execution_count": 75,
     "metadata": {},
     "output_type": "execute_result"
    }
   ],
   "source": [
    "df.State.nunique()"
   ]
  },
  {
   "cell_type": "code",
   "execution_count": 76,
   "id": "74e4f5d7",
   "metadata": {},
   "outputs": [
    {
     "data": {
      "text/plain": [
       "<pandas.core.groupby.generic.DataFrameGroupBy object at 0x7f5a6a607c70>"
      ]
     },
     "execution_count": 76,
     "metadata": {},
     "output_type": "execute_result"
    }
   ],
   "source": [
    "df.groupby(\"State\")"
   ]
  },
  {
   "cell_type": "code",
   "execution_count": 81,
   "id": "4783b718",
   "metadata": {},
   "outputs": [
    {
     "data": {
      "text/plain": [
       "State\n",
       " Germany                    19\n",
       " United Kingdom             16\n",
       " Spain                      13\n",
       " Italy                      10\n",
       " Poland                     10\n",
       " France                      5\n",
       " Netherlands                 4\n",
       " Sweden                      3\n",
       " Romania                     3\n",
       " Bulgaria                    3\n",
       " Denmark                     2\n",
       " Czech Republic              2\n",
       " Greece                      2\n",
       " Belgium                     2\n",
       " Lithuania                   2\n",
       " Portugal                    1\n",
       " Austria                     1\n",
       " Ireland                     1\n",
       " Latvia                      1\n",
       " Hungary                     1\n",
       " Finland                     1\n",
       " Estonia                     1\n",
       " Croatia                     1\n",
       "Slovakia Slovak Republic     1\n",
       "Name: City, dtype: int64"
      ]
     },
     "execution_count": 81,
     "metadata": {},
     "output_type": "execute_result"
    }
   ],
   "source": [
    "df.groupby(\"State\")[\"City\"].count().sort_values(ascending=False)"
   ]
  },
  {
   "cell_type": "code",
   "execution_count": 82,
   "id": "c38296b6",
   "metadata": {},
   "outputs": [
    {
     "data": {
      "text/plain": [
       "State\n",
       " Germany           19\n",
       " United Kingdom    16\n",
       " Spain             13\n",
       " Italy             10\n",
       " Poland            10\n",
       "Name: City, dtype: int64"
      ]
     },
     "execution_count": 82,
     "metadata": {},
     "output_type": "execute_result"
    }
   ],
   "source": [
    "df.groupby(\"State\")[\"City\"].count().nlargest(5)"
   ]
  },
  {
   "cell_type": "code",
   "execution_count": 83,
   "id": "17b6126b",
   "metadata": {},
   "outputs": [
    {
     "data": {
      "text/html": [
       "<div>\n",
       "<style scoped>\n",
       "    .dataframe tbody tr th:only-of-type {\n",
       "        vertical-align: middle;\n",
       "    }\n",
       "\n",
       "    .dataframe tbody tr th {\n",
       "        vertical-align: top;\n",
       "    }\n",
       "\n",
       "    .dataframe thead th {\n",
       "        text-align: right;\n",
       "    }\n",
       "</style>\n",
       "<table border=\"1\" class=\"dataframe\">\n",
       "  <thead>\n",
       "    <tr style=\"text-align: right;\">\n",
       "      <th></th>\n",
       "      <th>City</th>\n",
       "      <th>State</th>\n",
       "      <th>Population</th>\n",
       "      <th>Date of census/estimate</th>\n",
       "    </tr>\n",
       "    <tr>\n",
       "      <th>Rank</th>\n",
       "      <th></th>\n",
       "      <th></th>\n",
       "      <th></th>\n",
       "      <th></th>\n",
       "    </tr>\n",
       "  </thead>\n",
       "  <tbody>\n",
       "    <tr>\n",
       "      <th>1</th>\n",
       "      <td>London</td>\n",
       "      <td>United Kingdom</td>\n",
       "      <td>8615246</td>\n",
       "      <td>2014-06-01</td>\n",
       "    </tr>\n",
       "    <tr>\n",
       "      <th>2</th>\n",
       "      <td>Berlin</td>\n",
       "      <td>Germany</td>\n",
       "      <td>3437916</td>\n",
       "      <td>2014-05-31</td>\n",
       "    </tr>\n",
       "    <tr>\n",
       "      <th>3</th>\n",
       "      <td>Madrid</td>\n",
       "      <td>Spain</td>\n",
       "      <td>3165235</td>\n",
       "      <td>2014-01-01</td>\n",
       "    </tr>\n",
       "    <tr>\n",
       "      <th>4</th>\n",
       "      <td>Rome</td>\n",
       "      <td>Italy</td>\n",
       "      <td>2872086</td>\n",
       "      <td>2014-09-30</td>\n",
       "    </tr>\n",
       "    <tr>\n",
       "      <th>5</th>\n",
       "      <td>Paris</td>\n",
       "      <td>France</td>\n",
       "      <td>2273305</td>\n",
       "      <td>2013-01-01</td>\n",
       "    </tr>\n",
       "  </tbody>\n",
       "</table>\n",
       "</div>"
      ],
      "text/plain": [
       "        City            State  Population Date of census/estimate\n",
       "Rank                                                             \n",
       "1     London   United Kingdom     8615246              2014-06-01\n",
       "2     Berlin          Germany     3437916              2014-05-31\n",
       "3     Madrid            Spain     3165235              2014-01-01\n",
       "4       Rome            Italy     2872086              2014-09-30\n",
       "5      Paris           France     2273305              2013-01-01"
      ]
     },
     "execution_count": 83,
     "metadata": {},
     "output_type": "execute_result"
    }
   ],
   "source": [
    "df.head()"
   ]
  },
  {
   "cell_type": "code",
   "execution_count": 86,
   "id": "712b13f6",
   "metadata": {},
   "outputs": [
    {
     "data": {
      "text/plain": [
       "State\n",
       " United Kingdom             16011877\n",
       " Germany                    15119548\n",
       " Spain                      10041639\n",
       " Italy                       8764067\n",
       " Poland                      6267409\n",
       " France                      4395271\n",
       " Romania                     2527280\n",
       " Netherlands                 2271771\n",
       " Bulgaria                    1968755\n",
       " Austria                     1794770\n",
       " Sweden                      1747095\n",
       " Hungary                     1744665\n",
       " Belgium                     1686441\n",
       " Czech Republic              1625107\n",
       " Greece                       986286\n",
       " Denmark                      886116\n",
       " Lithuania                    844040\n",
       " Croatia                      790017\n",
       " Latvia                       701185\n",
       " Finland                      605523\n",
       " Portugal                     547631\n",
       " Ireland                      527612\n",
       " Estonia                      434810\n",
       "Slovakia Slovak Republic      417389\n",
       "Name: Population, dtype: int64"
      ]
     },
     "execution_count": 86,
     "metadata": {},
     "output_type": "execute_result"
    }
   ],
   "source": [
    "popu=df.groupby(\"State\")[\"Population\"].sum().sort_values(ascending=False)\n",
    "popu"
   ]
  },
  {
   "cell_type": "code",
   "execution_count": 87,
   "id": "0572b223",
   "metadata": {},
   "outputs": [],
   "source": [
    "import seaborn as sns"
   ]
  },
  {
   "cell_type": "code",
   "execution_count": 95,
   "id": "75db9a21",
   "metadata": {},
   "outputs": [
    {
     "data": {
      "image/png": "[encoded data removed]",
      "text/plain": [
       "<Figure size 720x360 with 1 Axes>"
      ]
     },
     "metadata": {
      "needs_background": "light"
     },
     "output_type": "display_data"
    }
   ],
   "source": [
    "plt.figure(figsize=(10,5))\n",
    "sns.barplot(popu.index,popu.values)\n",
    "plt.xticks(rotation=45,ha=\"right\")\n",
    "plt.show()"
   ]
  },
  {
   "cell_type": "code",
   "execution_count": 94,
   "id": "d4883c7b",
   "metadata": {},
   "outputs": [],
   "source": [
    "import warnings\n",
    "warnings.filterwarnings(\"ignore\")"
   ]
  },
  {
   "cell_type": "code",
   "execution_count": 100,
   "id": "da47c1eb",
   "metadata": {},
   "outputs": [
    {
     "data": {
      "image/png": "[encoded data removed]",
      "text/plain": [
       "<Figure size 576x360 with 1 Axes>"
      ]
     },
     "metadata": {
      "needs_background": "light"
     },
     "output_type": "display_data"
    }
   ],
   "source": [
    "plt.figure(figsize=(8,5))\n",
    "sns.barplot(popu,popu.index,orient=\"h\")\n",
    "plt.yticks(fontsize=10)\n",
    "plt.xticks(fontsize=10)\n",
    "\n",
    "plt.ylabel(\"Country name\",fontsize=10)\n",
    "plt.xlabel(\"Polulation\",fontsize=12)\n",
    "\n",
    "plt.show()"
   ]
  },
  {
   "cell_type": "code",
   "execution_count": 101,
   "id": "403a80c6",
   "metadata": {},
   "outputs": [
    {
     "data": {
      "text/plain": [
       "Timestamp('2010-12-31 00:00:00')"
      ]
     },
     "execution_count": 101,
     "metadata": {},
     "output_type": "execute_result"
    }
   ],
   "source": [
    "df[\"Date of census/estimate\"].min()"
   ]
  },
  {
   "cell_type": "code",
   "execution_count": 102,
   "id": "7a73f2da",
   "metadata": {},
   "outputs": [
    {
     "data": {
      "text/plain": [
       "Timestamp('2015-02-01 00:00:00')"
      ]
     },
     "execution_count": 102,
     "metadata": {},
     "output_type": "execute_result"
    }
   ],
   "source": [
    "df[\"Date of census/estimate\"].max()"
   ]
  },
  {
   "cell_type": "code",
   "execution_count": 103,
   "id": "edb2b88e",
   "metadata": {},
   "outputs": [
    {
     "data": {
      "text/plain": [
       "Rank\n",
       "1      2014\n",
       "2      2014\n",
       "3      2014\n",
       "4      2014\n",
       "5      2013\n",
       "       ... \n",
       "101    2012\n",
       "102    2013\n",
       "103    2012\n",
       "104    2012\n",
       "105    2013\n",
       "Name: Date of census/estimate, Length: 105, dtype: int64"
      ]
     },
     "execution_count": 103,
     "metadata": {},
     "output_type": "execute_result"
    }
   ],
   "source": [
    "df[\"Date of census/estimate\"].apply(lambda x:x.year)"
   ]
  },
  {
   "cell_type": "code",
   "execution_count": 104,
   "id": "e1c2b37a",
   "metadata": {},
   "outputs": [],
   "source": [
    "df[\"Year\"]=df[\"Date of census/estimate\"].apply(lambda x:x.year)"
   ]
  },
  {
   "cell_type": "code",
   "execution_count": 105,
   "id": "463da9f6",
   "metadata": {},
   "outputs": [
    {
     "data": {
      "text/html": [
       "<div>\n",
       "<style scoped>\n",
       "    .dataframe tbody tr th:only-of-type {\n",
       "        vertical-align: middle;\n",
       "    }\n",
       "\n",
       "    .dataframe tbody tr th {\n",
       "        vertical-align: top;\n",
       "    }\n",
       "\n",
       "    .dataframe thead th {\n",
       "        text-align: right;\n",
       "    }\n",
       "</style>\n",
       "<table border=\"1\" class=\"dataframe\">\n",
       "  <thead>\n",
       "    <tr style=\"text-align: right;\">\n",
       "      <th></th>\n",
       "      <th>City</th>\n",
       "      <th>State</th>\n",
       "      <th>Population</th>\n",
       "      <th>Date of census/estimate</th>\n",
       "      <th>Year</th>\n",
       "    </tr>\n",
       "    <tr>\n",
       "      <th>Rank</th>\n",
       "      <th></th>\n",
       "      <th></th>\n",
       "      <th></th>\n",
       "      <th></th>\n",
       "      <th></th>\n",
       "    </tr>\n",
       "  </thead>\n",
       "  <tbody>\n",
       "    <tr>\n",
       "      <th>1</th>\n",
       "      <td>London</td>\n",
       "      <td>United Kingdom</td>\n",
       "      <td>8615246</td>\n",
       "      <td>2014-06-01</td>\n",
       "      <td>2014</td>\n",
       "    </tr>\n",
       "    <tr>\n",
       "      <th>2</th>\n",
       "      <td>Berlin</td>\n",
       "      <td>Germany</td>\n",
       "      <td>3437916</td>\n",
       "      <td>2014-05-31</td>\n",
       "      <td>2014</td>\n",
       "    </tr>\n",
       "    <tr>\n",
       "      <th>3</th>\n",
       "      <td>Madrid</td>\n",
       "      <td>Spain</td>\n",
       "      <td>3165235</td>\n",
       "      <td>2014-01-01</td>\n",
       "      <td>2014</td>\n",
       "    </tr>\n",
       "    <tr>\n",
       "      <th>4</th>\n",
       "      <td>Rome</td>\n",
       "      <td>Italy</td>\n",
       "      <td>2872086</td>\n",
       "      <td>2014-09-30</td>\n",
       "      <td>2014</td>\n",
       "    </tr>\n",
       "    <tr>\n",
       "      <th>5</th>\n",
       "      <td>Paris</td>\n",
       "      <td>France</td>\n",
       "      <td>2273305</td>\n",
       "      <td>2013-01-01</td>\n",
       "      <td>2013</td>\n",
       "    </tr>\n",
       "  </tbody>\n",
       "</table>\n",
       "</div>"
      ],
      "text/plain": [
       "        City            State  Population Date of census/estimate  Year\n",
       "Rank                                                                   \n",
       "1     London   United Kingdom     8615246              2014-06-01  2014\n",
       "2     Berlin          Germany     3437916              2014-05-31  2014\n",
       "3     Madrid            Spain     3165235              2014-01-01  2014\n",
       "4       Rome            Italy     2872086              2014-09-30  2014\n",
       "5      Paris           France     2273305              2013-01-01  2013"
      ]
     },
     "execution_count": 105,
     "metadata": {},
     "output_type": "execute_result"
    }
   ],
   "source": [
    "df.head()"
   ]
  },
  {
   "cell_type": "code",
   "execution_count": 106,
   "id": "0fc13e76",
   "metadata": {},
   "outputs": [
    {
     "data": {
      "text/html": [
       "<div>\n",
       "<style scoped>\n",
       "    .dataframe tbody tr th:only-of-type {\n",
       "        vertical-align: middle;\n",
       "    }\n",
       "\n",
       "    .dataframe tbody tr th {\n",
       "        vertical-align: top;\n",
       "    }\n",
       "\n",
       "    .dataframe thead th {\n",
       "        text-align: right;\n",
       "    }\n",
       "</style>\n",
       "<table border=\"1\" class=\"dataframe\">\n",
       "  <thead>\n",
       "    <tr style=\"text-align: right;\">\n",
       "      <th></th>\n",
       "      <th>Population</th>\n",
       "    </tr>\n",
       "    <tr>\n",
       "      <th>Year</th>\n",
       "      <th></th>\n",
       "    </tr>\n",
       "  </thead>\n",
       "  <tbody>\n",
       "    <tr>\n",
       "      <th>2010</th>\n",
       "      <td>1269450</td>\n",
       "    </tr>\n",
       "    <tr>\n",
       "      <th>2011</th>\n",
       "      <td>5874186</td>\n",
       "    </tr>\n",
       "    <tr>\n",
       "      <th>2012</th>\n",
       "      <td>14490582</td>\n",
       "    </tr>\n",
       "    <tr>\n",
       "      <th>2013</th>\n",
       "      <td>19246071</td>\n",
       "    </tr>\n",
       "    <tr>\n",
       "      <th>2014</th>\n",
       "      <td>39596435</td>\n",
       "    </tr>\n",
       "    <tr>\n",
       "      <th>2015</th>\n",
       "      <td>2229580</td>\n",
       "    </tr>\n",
       "  </tbody>\n",
       "</table>\n",
       "</div>"
      ],
      "text/plain": [
       "      Population\n",
       "Year            \n",
       "2010     1269450\n",
       "2011     5874186\n",
       "2012    14490582\n",
       "2013    19246071\n",
       "2014    39596435\n",
       "2015     2229580"
      ]
     },
     "execution_count": 106,
     "metadata": {},
     "output_type": "execute_result"
    }
   ],
   "source": [
    "df.groupby(\"Year\").agg(np.sum)"
   ]
  },
  {
   "cell_type": "code",
   "execution_count": 108,
   "id": "496eae74",
   "metadata": {},
   "outputs": [
    {
     "data": {
      "text/plain": [
       "<AxesSubplot:xlabel='Year'>"
      ]
     },
     "execution_count": 108,
     "metadata": {},
     "output_type": "execute_result"
    },
    {
     "data": {
      "image/png": "[encoded data removed]",
      "text/plain": [
       "<Figure size 576x360 with 1 Axes>"
      ]
     },
     "metadata": {
      "needs_background": "light"
     },
     "output_type": "display_data"
    }
   ],
   "source": [
    "df.groupby(\"Year\").agg(np.sum).plot(kind=\"line\",marker=\"*\",color=\"blue\",alpha=0.6,figsize=(8,5))"
   ]
  },
  {
   "cell_type": "code",
   "execution_count": 110,
   "id": "1b1f5d41",
   "metadata": {},
   "outputs": [
    {
     "data": {
      "text/html": [
       "<div>\n",
       "<style scoped>\n",
       "    .dataframe tbody tr th:only-of-type {\n",
       "        vertical-align: middle;\n",
       "    }\n",
       "\n",
       "    .dataframe tbody tr th {\n",
       "        vertical-align: top;\n",
       "    }\n",
       "\n",
       "    .dataframe thead th {\n",
       "        text-align: right;\n",
       "    }\n",
       "</style>\n",
       "<table border=\"1\" class=\"dataframe\">\n",
       "  <thead>\n",
       "    <tr style=\"text-align: right;\">\n",
       "      <th>Year</th>\n",
       "      <th>2010</th>\n",
       "      <th>2011</th>\n",
       "      <th>2012</th>\n",
       "      <th>2013</th>\n",
       "      <th>2014</th>\n",
       "      <th>2015</th>\n",
       "      <th>All</th>\n",
       "    </tr>\n",
       "    <tr>\n",
       "      <th>State</th>\n",
       "      <th></th>\n",
       "      <th></th>\n",
       "      <th></th>\n",
       "      <th></th>\n",
       "      <th></th>\n",
       "      <th></th>\n",
       "      <th></th>\n",
       "    </tr>\n",
       "  </thead>\n",
       "  <tbody>\n",
       "    <tr>\n",
       "      <th>Austria</th>\n",
       "      <td>NaN</td>\n",
       "      <td>NaN</td>\n",
       "      <td>NaN</td>\n",
       "      <td>NaN</td>\n",
       "      <td>NaN</td>\n",
       "      <td>1794770.0</td>\n",
       "      <td>1794770</td>\n",
       "    </tr>\n",
       "    <tr>\n",
       "      <th>Belgium</th>\n",
       "      <td>NaN</td>\n",
       "      <td>NaN</td>\n",
       "      <td>NaN</td>\n",
       "      <td>NaN</td>\n",
       "      <td>1686441.0</td>\n",
       "      <td>NaN</td>\n",
       "      <td>1686441</td>\n",
       "    </tr>\n",
       "    <tr>\n",
       "      <th>Bulgaria</th>\n",
       "      <td>NaN</td>\n",
       "      <td>NaN</td>\n",
       "      <td>NaN</td>\n",
       "      <td>676860.0</td>\n",
       "      <td>1291895.0</td>\n",
       "      <td>NaN</td>\n",
       "      <td>1968755</td>\n",
       "    </tr>\n",
       "    <tr>\n",
       "      <th>Croatia</th>\n",
       "      <td>NaN</td>\n",
       "      <td>790017.0</td>\n",
       "      <td>NaN</td>\n",
       "      <td>NaN</td>\n",
       "      <td>NaN</td>\n",
       "      <td>NaN</td>\n",
       "      <td>790017</td>\n",
       "    </tr>\n",
       "    <tr>\n",
       "      <th>Czech Republic</th>\n",
       "      <td>NaN</td>\n",
       "      <td>NaN</td>\n",
       "      <td>NaN</td>\n",
       "      <td>1625107.0</td>\n",
       "      <td>NaN</td>\n",
       "      <td>NaN</td>\n",
       "      <td>1625107</td>\n",
       "    </tr>\n",
       "    <tr>\n",
       "      <th>Denmark</th>\n",
       "      <td>NaN</td>\n",
       "      <td>NaN</td>\n",
       "      <td>NaN</td>\n",
       "      <td>559440.0</td>\n",
       "      <td>326676.0</td>\n",
       "      <td>NaN</td>\n",
       "      <td>886116</td>\n",
       "    </tr>\n",
       "    <tr>\n",
       "      <th>Estonia</th>\n",
       "      <td>NaN</td>\n",
       "      <td>NaN</td>\n",
       "      <td>NaN</td>\n",
       "      <td>NaN</td>\n",
       "      <td>NaN</td>\n",
       "      <td>434810.0</td>\n",
       "      <td>434810</td>\n",
       "    </tr>\n",
       "    <tr>\n",
       "      <th>Finland</th>\n",
       "      <td>NaN</td>\n",
       "      <td>NaN</td>\n",
       "      <td>NaN</td>\n",
       "      <td>605523.0</td>\n",
       "      <td>NaN</td>\n",
       "      <td>NaN</td>\n",
       "      <td>605523</td>\n",
       "    </tr>\n",
       "    <tr>\n",
       "      <th>France</th>\n",
       "      <td>1269450.0</td>\n",
       "      <td>NaN</td>\n",
       "      <td>852516.0</td>\n",
       "      <td>2273305.0</td>\n",
       "      <td>NaN</td>\n",
       "      <td>NaN</td>\n",
       "      <td>4395271</td>\n",
       "    </tr>\n",
       "    <tr>\n",
       "      <th>Germany</th>\n",
       "      <td>NaN</td>\n",
       "      <td>NaN</td>\n",
       "      <td>3979488.0</td>\n",
       "      <td>7702144.0</td>\n",
       "      <td>3437916.0</td>\n",
       "      <td>NaN</td>\n",
       "      <td>15119548</td>\n",
       "    </tr>\n",
       "    <tr>\n",
       "      <th>Greece</th>\n",
       "      <td>NaN</td>\n",
       "      <td>986286.0</td>\n",
       "      <td>NaN</td>\n",
       "      <td>NaN</td>\n",
       "      <td>NaN</td>\n",
       "      <td>NaN</td>\n",
       "      <td>986286</td>\n",
       "    </tr>\n",
       "    <tr>\n",
       "      <th>Hungary</th>\n",
       "      <td>NaN</td>\n",
       "      <td>NaN</td>\n",
       "      <td>NaN</td>\n",
       "      <td>NaN</td>\n",
       "      <td>1744665.0</td>\n",
       "      <td>NaN</td>\n",
       "      <td>1744665</td>\n",
       "    </tr>\n",
       "    <tr>\n",
       "      <th>Ireland</th>\n",
       "      <td>NaN</td>\n",
       "      <td>527612.0</td>\n",
       "      <td>NaN</td>\n",
       "      <td>NaN</td>\n",
       "      <td>NaN</td>\n",
       "      <td>NaN</td>\n",
       "      <td>527612</td>\n",
       "    </tr>\n",
       "    <tr>\n",
       "      <th>Italy</th>\n",
       "      <td>NaN</td>\n",
       "      <td>NaN</td>\n",
       "      <td>NaN</td>\n",
       "      <td>1399736.0</td>\n",
       "      <td>7364331.0</td>\n",
       "      <td>NaN</td>\n",
       "      <td>8764067</td>\n",
       "    </tr>\n",
       "    <tr>\n",
       "      <th>Latvia</th>\n",
       "      <td>NaN</td>\n",
       "      <td>NaN</td>\n",
       "      <td>NaN</td>\n",
       "      <td>NaN</td>\n",
       "      <td>701185.0</td>\n",
       "      <td>NaN</td>\n",
       "      <td>701185</td>\n",
       "    </tr>\n",
       "    <tr>\n",
       "      <th>Lithuania</th>\n",
       "      <td>NaN</td>\n",
       "      <td>NaN</td>\n",
       "      <td>NaN</td>\n",
       "      <td>844040.0</td>\n",
       "      <td>NaN</td>\n",
       "      <td>NaN</td>\n",
       "      <td>844040</td>\n",
       "    </tr>\n",
       "    <tr>\n",
       "      <th>Netherlands</th>\n",
       "      <td>NaN</td>\n",
       "      <td>NaN</td>\n",
       "      <td>NaN</td>\n",
       "      <td>616528.0</td>\n",
       "      <td>1655243.0</td>\n",
       "      <td>NaN</td>\n",
       "      <td>2271771</td>\n",
       "    </tr>\n",
       "    <tr>\n",
       "      <th>Poland</th>\n",
       "      <td>NaN</td>\n",
       "      <td>NaN</td>\n",
       "      <td>1888240.0</td>\n",
       "      <td>NaN</td>\n",
       "      <td>4379169.0</td>\n",
       "      <td>NaN</td>\n",
       "      <td>6267409</td>\n",
       "    </tr>\n",
       "    <tr>\n",
       "      <th>Portugal</th>\n",
       "      <td>NaN</td>\n",
       "      <td>547631.0</td>\n",
       "      <td>NaN</td>\n",
       "      <td>NaN</td>\n",
       "      <td>NaN</td>\n",
       "      <td>NaN</td>\n",
       "      <td>547631</td>\n",
       "    </tr>\n",
       "    <tr>\n",
       "      <th>Romania</th>\n",
       "      <td>NaN</td>\n",
       "      <td>2527280.0</td>\n",
       "      <td>NaN</td>\n",
       "      <td>NaN</td>\n",
       "      <td>NaN</td>\n",
       "      <td>NaN</td>\n",
       "      <td>2527280</td>\n",
       "    </tr>\n",
       "    <tr>\n",
       "      <th>Spain</th>\n",
       "      <td>NaN</td>\n",
       "      <td>NaN</td>\n",
       "      <td>2557947.0</td>\n",
       "      <td>NaN</td>\n",
       "      <td>7483692.0</td>\n",
       "      <td>NaN</td>\n",
       "      <td>10041639</td>\n",
       "    </tr>\n",
       "    <tr>\n",
       "      <th>Sweden</th>\n",
       "      <td>NaN</td>\n",
       "      <td>NaN</td>\n",
       "      <td>NaN</td>\n",
       "      <td>837119.0</td>\n",
       "      <td>909976.0</td>\n",
       "      <td>NaN</td>\n",
       "      <td>1747095</td>\n",
       "    </tr>\n",
       "    <tr>\n",
       "      <th>United Kingdom</th>\n",
       "      <td>NaN</td>\n",
       "      <td>495360.0</td>\n",
       "      <td>5212391.0</td>\n",
       "      <td>1688880.0</td>\n",
       "      <td>8615246.0</td>\n",
       "      <td>NaN</td>\n",
       "      <td>16011877</td>\n",
       "    </tr>\n",
       "    <tr>\n",
       "      <th>Slovakia Slovak Republic</th>\n",
       "      <td>NaN</td>\n",
       "      <td>NaN</td>\n",
       "      <td>NaN</td>\n",
       "      <td>417389.0</td>\n",
       "      <td>NaN</td>\n",
       "      <td>NaN</td>\n",
       "      <td>417389</td>\n",
       "    </tr>\n",
       "    <tr>\n",
       "      <th>All</th>\n",
       "      <td>1269450.0</td>\n",
       "      <td>5874186.0</td>\n",
       "      <td>14490582.0</td>\n",
       "      <td>19246071.0</td>\n",
       "      <td>39596435.0</td>\n",
       "      <td>2229580.0</td>\n",
       "      <td>82706304</td>\n",
       "    </tr>\n",
       "  </tbody>\n",
       "</table>\n",
       "</div>"
      ],
      "text/plain": [
       "Year                           2010       2011        2012        2013  \\\n",
       "State                                                                    \n",
       " Austria                        NaN        NaN         NaN         NaN   \n",
       " Belgium                        NaN        NaN         NaN         NaN   \n",
       " Bulgaria                       NaN        NaN         NaN    676860.0   \n",
       " Croatia                        NaN   790017.0         NaN         NaN   \n",
       " Czech Republic                 NaN        NaN         NaN   1625107.0   \n",
       " Denmark                        NaN        NaN         NaN    559440.0   \n",
       " Estonia                        NaN        NaN         NaN         NaN   \n",
       " Finland                        NaN        NaN         NaN    605523.0   \n",
       " France                   1269450.0        NaN    852516.0   2273305.0   \n",
       " Germany                        NaN        NaN   3979488.0   7702144.0   \n",
       " Greece                         NaN   986286.0         NaN         NaN   \n",
       " Hungary                        NaN        NaN         NaN         NaN   \n",
       " Ireland                        NaN   527612.0         NaN         NaN   \n",
       " Italy                          NaN        NaN         NaN   1399736.0   \n",
       " Latvia                         NaN        NaN         NaN         NaN   \n",
       " Lithuania                      NaN        NaN         NaN    844040.0   \n",
       " Netherlands                    NaN        NaN         NaN    616528.0   \n",
       " Poland                         NaN        NaN   1888240.0         NaN   \n",
       " Portugal                       NaN   547631.0         NaN         NaN   \n",
       " Romania                        NaN  2527280.0         NaN         NaN   \n",
       " Spain                          NaN        NaN   2557947.0         NaN   \n",
       " Sweden                         NaN        NaN         NaN    837119.0   \n",
       " United Kingdom                 NaN   495360.0   5212391.0   1688880.0   \n",
       "Slovakia Slovak Republic        NaN        NaN         NaN    417389.0   \n",
       "All                       1269450.0  5874186.0  14490582.0  19246071.0   \n",
       "\n",
       "Year                            2014       2015       All  \n",
       "State                                                      \n",
       " Austria                         NaN  1794770.0   1794770  \n",
       " Belgium                   1686441.0        NaN   1686441  \n",
       " Bulgaria                  1291895.0        NaN   1968755  \n",
       " Croatia                         NaN        NaN    790017  \n",
       " Czech Republic                  NaN        NaN   1625107  \n",
       " Denmark                    326676.0        NaN    886116  \n",
       " Estonia                         NaN   434810.0    434810  \n",
       " Finland                         NaN        NaN    605523  \n",
       " France                          NaN        NaN   4395271  \n",
       " Germany                   3437916.0        NaN  15119548  \n",
       " Greece                          NaN        NaN    986286  \n",
       " Hungary                   1744665.0        NaN   1744665  \n",
       " Ireland                         NaN        NaN    527612  \n",
       " Italy                     7364331.0        NaN   8764067  \n",
       " Latvia                     701185.0        NaN    701185  \n",
       " Lithuania                       NaN        NaN    844040  \n",
       " Netherlands               1655243.0        NaN   2271771  \n",
       " Poland                    4379169.0        NaN   6267409  \n",
       " Portugal                        NaN        NaN    547631  \n",
       " Romania                         NaN        NaN   2527280  \n",
       " Spain                     7483692.0        NaN  10041639  \n",
       " Sweden                     909976.0        NaN   1747095  \n",
       " United Kingdom            8615246.0        NaN  16011877  \n",
       "Slovakia Slovak Republic         NaN        NaN    417389  \n",
       "All                       39596435.0  2229580.0  82706304  "
      ]
     },
     "execution_count": 110,
     "metadata": {},
     "output_type": "execute_result"
    }
   ],
   "source": [
    "df.pivot_table(values=\"Population\",index=\"State\",columns=\"Year\",aggfunc=\"sum\",margins=True)"
   ]
  },
  {
   "cell_type": "code",
   "execution_count": null,
   "id": "5d364957",
   "metadata": {},
   "outputs": [],
   "source": []
  }
 ],
 "metadata": {
  "kernelspec": {
   "display_name": "Python 3 (ipykernel)",
   "language": "python",
   "name": "python3"
  },
  "language_info": {
   "codemirror_mode": {
    "name": "ipython",
    "version": 3
   },
   "file_extension": ".py",
   "mimetype": "text/x-python",
   "name": "python",
   "nbconvert_exporter": "python",
   "pygments_lexer": "ipython3",
   "version": "3.8.12"
  },
  "toc": {
   "base_numbering": 1,
   "nav_menu": {},
   "number_sections": true,
   "sideBar": true,
   "skip_h1_title": false,
   "title_cell": "Table of Contents",
   "title_sidebar": "Contents",
   "toc_cell": false,
   "toc_position": {},
   "toc_section_display": true,
   "toc_window_display": false
  }
 },
 "nbformat": 4,
 "nbformat_minor": 5
}
